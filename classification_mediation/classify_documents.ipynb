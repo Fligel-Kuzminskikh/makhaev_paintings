{
 "cells": [
  {
   "cell_type": "code",
   "execution_count": 1,
   "id": "5377826a",
   "metadata": {},
   "outputs": [
    {
     "name": "stderr",
     "output_type": "stream",
     "text": [
      "[nltk_data] Downloading package stopwords to\n",
      "[nltk_data]     /home/eu2233-16/nltk_data...\n",
      "[nltk_data]   Package stopwords is already up-to-date!\n"
     ]
    }
   ],
   "source": [
    "import pandas as pd\n",
    "from sklearn.feature_extraction.text import CountVectorizer\n",
    "from sklearn.feature_extraction.text import TfidfVectorizer\n",
    "from pymystem3 import Mystem\n",
    "from sklearn.model_selection import train_test_split\n",
    "from sklearn.linear_model import LogisticRegression\n",
    "from sklearn.preprocessing import OneHotEncoder\n",
    "import numpy as np\n",
    "from sklearn.metrics import roc_auc_score\n",
    "from sklearn.metrics import ConfusionMatrixDisplay\n",
    "import matplotlib.pyplot as plt\n",
    "from sklearn.metrics import classification_report\n",
    "\n",
    "import nltk\n",
    "nltk.download('stopwords')\n",
    "\n",
    "from nltk.corpus import stopwords\n",
    "_stopwords = stopwords.words('russian')\n",
    "\n",
    "objects = pd.read_csv(\"df_merge_labelled.csv\")\n",
    "objects.drop(columns='comment', inplace=True)\n",
    "objects = objects[objects.connectedness != 0]"
   ]
  },
  {
   "cell_type": "code",
   "execution_count": 2,
   "id": "675e9ec1",
   "metadata": {},
   "outputs": [],
   "source": [
    "def clean(data, cols_drop, pattern, replacement, lemmatize=True):\n",
    "    \n",
    "    if cols_drop != None:\n",
    "        data = data.drop(columns=cols_drop)\n",
    "    data = data.fillna('')\n",
    "    data['text'] = data['name'] + \" \" + data['author'] + \" \" + data['technologies']\n",
    "    data['text'] = data['text'].astype('str')\n",
    "    data['text'] = data['text'].apply(lambda x: x.lower())\n",
    "    data['text'] = data.text.str.replace(pattern, replacement)\n",
    "    if lemmatize:\n",
    "        m = Mystem()\n",
    "        data['text'] = data.text.apply(lambda x: ''.join(m.lemmatize(x)).rstrip())\n",
    "    \n",
    "    return data"
   ]
  },
  {
   "cell_type": "code",
   "execution_count": 3,
   "id": "12b6358c",
   "metadata": {},
   "outputs": [
    {
     "name": "stderr",
     "output_type": "stream",
     "text": [
      "/tmp/ipykernel_758916/3149391528.py:9: FutureWarning: The default value of regex will change from True to False in a future version.\n",
      "  data['text'] = data.text.str.replace(pattern, replacement)\n"
     ]
    }
   ],
   "source": [
    "objects_cleaned = clean(data=objects, cols_drop=['regNumber', 'invNumber', 'gikNumber', 'type', 'nativeId',\n",
    "                                                 'description', 'image'],\n",
    "                        pattern='[\\d+\\\\.\\\\,\\\\!\\\\?\\\\-\\\"\\'\\\\:\\\\;\\\\`\\\\)\\\\(\\\\{\\\\}\\\\[\\\\]x+v+i+\\\\«\\\\»\\\\—\\\\/\\\\\\\\\\n]', replacement='')"
   ]
  },
  {
   "cell_type": "code",
   "execution_count": 4,
   "id": "cf7259a5",
   "metadata": {},
   "outputs": [],
   "source": [
    "def vectorize(data, _type, sw=None):\n",
    "    \n",
    "    if _type == 'count':\n",
    "        vectorizer = CountVectorizer(stop_words=sw)\n",
    "        X = vectorizer.fit_transform(data['text'])\n",
    "    if _type == 'tfidf':\n",
    "        vectorizer = TfidfVectorizer(stop_words=sw)\n",
    "        X = vectorizer.fit_transform(data['text'])\n",
    "        \n",
    "    return X, vectorizer.get_feature_names_out()"
   ]
  },
  {
   "cell_type": "code",
   "execution_count": 5,
   "id": "ddd7a5bb",
   "metadata": {},
   "outputs": [],
   "source": [
    "X, features = vectorize(data=objects_cleaned, _type='count', sw=_stopwords)"
   ]
  },
  {
   "cell_type": "code",
   "execution_count": 6,
   "id": "15faa9eb",
   "metadata": {},
   "outputs": [],
   "source": [
    "X_train, X_test, y_train, y_test = train_test_split(\n",
    "    X, objects_cleaned['connectedness'], test_size=0.2,\n",
    "    stratify=objects_cleaned['connectedness'], random_state=123456)"
   ]
  },
  {
   "cell_type": "code",
   "execution_count": 7,
   "id": "f32bbf3f",
   "metadata": {},
   "outputs": [
    {
     "data": {
      "text/html": [
       "<style>#sk-container-id-1 {color: black;background-color: white;}#sk-container-id-1 pre{padding: 0;}#sk-container-id-1 div.sk-toggleable {background-color: white;}#sk-container-id-1 label.sk-toggleable__label {cursor: pointer;display: block;width: 100%;margin-bottom: 0;padding: 0.3em;box-sizing: border-box;text-align: center;}#sk-container-id-1 label.sk-toggleable__label-arrow:before {content: \"▸\";float: left;margin-right: 0.25em;color: #696969;}#sk-container-id-1 label.sk-toggleable__label-arrow:hover:before {color: black;}#sk-container-id-1 div.sk-estimator:hover label.sk-toggleable__label-arrow:before {color: black;}#sk-container-id-1 div.sk-toggleable__content {max-height: 0;max-width: 0;overflow: hidden;text-align: left;background-color: #f0f8ff;}#sk-container-id-1 div.sk-toggleable__content pre {margin: 0.2em;color: black;border-radius: 0.25em;background-color: #f0f8ff;}#sk-container-id-1 input.sk-toggleable__control:checked~div.sk-toggleable__content {max-height: 200px;max-width: 100%;overflow: auto;}#sk-container-id-1 input.sk-toggleable__control:checked~label.sk-toggleable__label-arrow:before {content: \"▾\";}#sk-container-id-1 div.sk-estimator input.sk-toggleable__control:checked~label.sk-toggleable__label {background-color: #d4ebff;}#sk-container-id-1 div.sk-label input.sk-toggleable__control:checked~label.sk-toggleable__label {background-color: #d4ebff;}#sk-container-id-1 input.sk-hidden--visually {border: 0;clip: rect(1px 1px 1px 1px);clip: rect(1px, 1px, 1px, 1px);height: 1px;margin: -1px;overflow: hidden;padding: 0;position: absolute;width: 1px;}#sk-container-id-1 div.sk-estimator {font-family: monospace;background-color: #f0f8ff;border: 1px dotted black;border-radius: 0.25em;box-sizing: border-box;margin-bottom: 0.5em;}#sk-container-id-1 div.sk-estimator:hover {background-color: #d4ebff;}#sk-container-id-1 div.sk-parallel-item::after {content: \"\";width: 100%;border-bottom: 1px solid gray;flex-grow: 1;}#sk-container-id-1 div.sk-label:hover label.sk-toggleable__label {background-color: #d4ebff;}#sk-container-id-1 div.sk-serial::before {content: \"\";position: absolute;border-left: 1px solid gray;box-sizing: border-box;top: 0;bottom: 0;left: 50%;z-index: 0;}#sk-container-id-1 div.sk-serial {display: flex;flex-direction: column;align-items: center;background-color: white;padding-right: 0.2em;padding-left: 0.2em;position: relative;}#sk-container-id-1 div.sk-item {position: relative;z-index: 1;}#sk-container-id-1 div.sk-parallel {display: flex;align-items: stretch;justify-content: center;background-color: white;position: relative;}#sk-container-id-1 div.sk-item::before, #sk-container-id-1 div.sk-parallel-item::before {content: \"\";position: absolute;border-left: 1px solid gray;box-sizing: border-box;top: 0;bottom: 0;left: 50%;z-index: -1;}#sk-container-id-1 div.sk-parallel-item {display: flex;flex-direction: column;z-index: 1;position: relative;background-color: white;}#sk-container-id-1 div.sk-parallel-item:first-child::after {align-self: flex-end;width: 50%;}#sk-container-id-1 div.sk-parallel-item:last-child::after {align-self: flex-start;width: 50%;}#sk-container-id-1 div.sk-parallel-item:only-child::after {width: 0;}#sk-container-id-1 div.sk-dashed-wrapped {border: 1px dashed gray;margin: 0 0.4em 0.5em 0.4em;box-sizing: border-box;padding-bottom: 0.4em;background-color: white;}#sk-container-id-1 div.sk-label label {font-family: monospace;font-weight: bold;display: inline-block;line-height: 1.2em;}#sk-container-id-1 div.sk-label-container {text-align: center;}#sk-container-id-1 div.sk-container {/* jupyter's `normalize.less` sets `[hidden] { display: none; }` but bootstrap.min.css set `[hidden] { display: none !important; }` so we also need the `!important` here to be able to override the default hidden behavior on the sphinx rendered scikit-learn.org. See: https://github.com/scikit-learn/scikit-learn/issues/21755 */display: inline-block !important;position: relative;}#sk-container-id-1 div.sk-text-repr-fallback {display: none;}</style><div id=\"sk-container-id-1\" class=\"sk-top-container\"><div class=\"sk-text-repr-fallback\"><pre>LogisticRegression(max_iter=5000, multi_class=&#x27;multinomial&#x27;)</pre><b>In a Jupyter environment, please rerun this cell to show the HTML representation or trust the notebook. <br />On GitHub, the HTML representation is unable to render, please try loading this page with nbviewer.org.</b></div><div class=\"sk-container\" hidden><div class=\"sk-item\"><div class=\"sk-estimator sk-toggleable\"><input class=\"sk-toggleable__control sk-hidden--visually\" id=\"sk-estimator-id-1\" type=\"checkbox\" checked><label for=\"sk-estimator-id-1\" class=\"sk-toggleable__label sk-toggleable__label-arrow\">LogisticRegression</label><div class=\"sk-toggleable__content\"><pre>LogisticRegression(max_iter=5000, multi_class=&#x27;multinomial&#x27;)</pre></div></div></div></div></div>"
      ],
      "text/plain": [
       "LogisticRegression(max_iter=5000, multi_class='multinomial')"
      ]
     },
     "execution_count": 7,
     "metadata": {},
     "output_type": "execute_result"
    }
   ],
   "source": [
    "lr_object = LogisticRegression(multi_class='multinomial', max_iter=5000)\n",
    "lr_object.fit(X_train, y_train)"
   ]
  },
  {
   "cell_type": "code",
   "execution_count": 8,
   "id": "b0cf2030-9d27-47a1-a5e2-8e221ffce780",
   "metadata": {},
   "outputs": [
    {
     "data": {
      "text/plain": [
       "махаев        1.504419\n",
       "медь          0.777659\n",
       "архитектор    0.731509\n",
       "петербург     0.715923\n",
       "гаврилович    0.658178\n",
       "трускот       0.644665\n",
       "мастер        0.591607\n",
       "dtype: float64"
      ]
     },
     "execution_count": 8,
     "metadata": {},
     "output_type": "execute_result"
    }
   ],
   "source": [
    "pd.Series(lr_object.coef_[0], index=features).sort_values(ascending=False).head(7)"
   ]
  },
  {
   "cell_type": "code",
   "execution_count": 9,
   "id": "0cb3893d-2193-458d-a147-02fe38cb57a8",
   "metadata": {},
   "outputs": [
    {
     "data": {
      "text/plain": [
       "автор       1.717482\n",
       "рис         1.319011\n",
       "резец       1.136687\n",
       "художник    1.129744\n",
       "акварель    0.824552\n",
       "серия       0.776312\n",
       "резцовый    0.671805\n",
       "dtype: float64"
      ]
     },
     "execution_count": 9,
     "metadata": {},
     "output_type": "execute_result"
    }
   ],
   "source": [
    "pd.Series(lr_object.coef_[1], index=features).sort_values(ascending=False).head(7)"
   ]
  },
  {
   "cell_type": "code",
   "execution_count": 10,
   "id": "29c3361e-2330-4e41-81b9-08ef78175b48",
   "metadata": {},
   "outputs": [
    {
     "data": {
      "text/plain": [
       "художник          0.825368\n",
       "год               0.822519\n",
       "фотогравюра       0.786551\n",
       "ан                0.773681\n",
       "гравировальный    0.767894\n",
       "гравер            0.767023\n",
       "леспинас          0.676856\n",
       "dtype: float64"
      ]
     },
     "execution_count": 10,
     "metadata": {},
     "output_type": "execute_result"
    }
   ],
   "source": [
    "pd.Series(lr_object.coef_[2], index=features).sort_values(ascending=False).head(7)"
   ]
  },
  {
   "cell_type": "code",
   "execution_count": 11,
   "id": "6165d6fd-b2d2-490b-be8f-e851b3f9518b",
   "metadata": {},
   "outputs": [
    {
     "data": {
      "text/plain": [
       "печать         1.895087\n",
       "репродукция    1.388824\n",
       "открытка       0.826122\n",
       "альбом         0.597720\n",
       "иллюстрация    0.558690\n",
       "москва         0.537046\n",
       "вырезка        0.514293\n",
       "dtype: float64"
      ]
     },
     "execution_count": 11,
     "metadata": {},
     "output_type": "execute_result"
    }
   ],
   "source": [
    "pd.Series(lr_object.coef_[3], index=features).sort_values(ascending=False).head(7)"
   ]
  },
  {
   "cell_type": "code",
   "execution_count": 12,
   "id": "7a439d30-5343-4f3c-8907-fc6252d3bac4",
   "metadata": {},
   "outputs": [
    {
     "data": {
      "text/plain": [
       "фотограф       0.808110\n",
       "изображение    0.654168\n",
       "слой           0.590436\n",
       "несущий        0.590436\n",
       "фотопечать     0.575028\n",
       "негатив        0.554645\n",
       "стеклянный     0.501053\n",
       "dtype: float64"
      ]
     },
     "execution_count": 12,
     "metadata": {},
     "output_type": "execute_result"
    }
   ],
   "source": [
    "pd.Series(lr_object.coef_[4], index=features).sort_values(ascending=False).head(7)"
   ]
  },
  {
   "cell_type": "code",
   "execution_count": 13,
   "id": "10706d94",
   "metadata": {},
   "outputs": [],
   "source": [
    "def calculate_average_roc_auc(y_true, y_score_matrix, average='macro'):\n",
    "    onehotencoder = OneHotEncoder()\n",
    "    y_true_martix = onehotencoder.fit_transform(np.array(y_true).reshape((-1, 1))).toarray()\n",
    "    roc_auc = roc_auc_score(y_true = y_true_martix, y_score = y_score_matrix, average=average)\n",
    "    return roc_auc"
   ]
  },
  {
   "cell_type": "code",
   "execution_count": 14,
   "id": "22a28105",
   "metadata": {},
   "outputs": [
    {
     "data": {
      "text/plain": [
       "0.9999787552509787"
      ]
     },
     "execution_count": 14,
     "metadata": {},
     "output_type": "execute_result"
    }
   ],
   "source": [
    "calculate_average_roc_auc(\n",
    "    y_true=y_train, \n",
    "    y_score_matrix=lr_object.predict_proba(X_train))"
   ]
  },
  {
   "cell_type": "code",
   "execution_count": 15,
   "id": "4fa4db5b",
   "metadata": {},
   "outputs": [
    {
     "data": {
      "text/plain": [
       "0.9848879770806784"
      ]
     },
     "execution_count": 15,
     "metadata": {},
     "output_type": "execute_result"
    }
   ],
   "source": [
    "calculate_average_roc_auc(\n",
    "    y_true=y_test, \n",
    "    y_score_matrix=lr_object.predict_proba(X_test))"
   ]
  },
  {
   "cell_type": "code",
   "execution_count": 16,
   "id": "e7d8280c",
   "metadata": {},
   "outputs": [],
   "source": [
    "roc_aucs_train = calculate_average_roc_auc(\n",
    "    y_true=y_train, \n",
    "    y_score_matrix=lr_object.predict_proba(X_train),\n",
    "    average=None)\n",
    "\n",
    "roc_aucs_test = calculate_average_roc_auc(\n",
    "    y_true=y_test, \n",
    "    y_score_matrix=lr_object.predict_proba(X_test),\n",
    "    average=None)"
   ]
  },
  {
   "cell_type": "code",
   "execution_count": 17,
   "id": "4fc0c19e",
   "metadata": {},
   "outputs": [
    {
     "data": {
      "text/html": [
       "<div>\n",
       "<style scoped>\n",
       "    .dataframe tbody tr th:only-of-type {\n",
       "        vertical-align: middle;\n",
       "    }\n",
       "\n",
       "    .dataframe tbody tr th {\n",
       "        vertical-align: top;\n",
       "    }\n",
       "\n",
       "    .dataframe thead th {\n",
       "        text-align: right;\n",
       "    }\n",
       "</style>\n",
       "<table border=\"1\" class=\"dataframe\">\n",
       "  <thead>\n",
       "    <tr style=\"text-align: right;\">\n",
       "      <th></th>\n",
       "      <th>ROC_AUC_test</th>\n",
       "      <th>ROC_AUC_train</th>\n",
       "      <th>class</th>\n",
       "    </tr>\n",
       "  </thead>\n",
       "  <tbody>\n",
       "    <tr>\n",
       "      <th>4</th>\n",
       "      <td>99.7180</td>\n",
       "      <td>100.0000</td>\n",
       "      <td>5</td>\n",
       "    </tr>\n",
       "    <tr>\n",
       "      <th>3</th>\n",
       "      <td>98.9784</td>\n",
       "      <td>100.0000</td>\n",
       "      <td>4</td>\n",
       "    </tr>\n",
       "    <tr>\n",
       "      <th>2</th>\n",
       "      <td>98.6480</td>\n",
       "      <td>100.0000</td>\n",
       "      <td>3</td>\n",
       "    </tr>\n",
       "    <tr>\n",
       "      <th>1</th>\n",
       "      <td>97.8094</td>\n",
       "      <td>99.9964</td>\n",
       "      <td>2</td>\n",
       "    </tr>\n",
       "    <tr>\n",
       "      <th>0</th>\n",
       "      <td>97.2902</td>\n",
       "      <td>99.9929</td>\n",
       "      <td>1</td>\n",
       "    </tr>\n",
       "  </tbody>\n",
       "</table>\n",
       "</div>"
      ],
      "text/plain": [
       "   ROC_AUC_test  ROC_AUC_train  class\n",
       "4       99.7180       100.0000      5\n",
       "3       98.9784       100.0000      4\n",
       "2       98.6480       100.0000      3\n",
       "1       97.8094        99.9964      2\n",
       "0       97.2902        99.9929      1"
      ]
     },
     "execution_count": 17,
     "metadata": {},
     "output_type": "execute_result"
    }
   ],
   "source": [
    "results = pd.DataFrame({'ROC_AUC_test': roc_aucs_test, \n",
    "                        'ROC_AUC_train': roc_aucs_train,\n",
    "                        'class': np.arange(1, 6)})\n",
    "results['ROC_AUC_test'] = round(results['ROC_AUC_test']*100, 4)\n",
    "results['ROC_AUC_train'] = round(results['ROC_AUC_train']*100, 4)\n",
    "results.sort_values('ROC_AUC_test', ascending = False)"
   ]
  },
  {
   "cell_type": "code",
   "execution_count": 18,
   "id": "710cdc87-ca98-472f-8d89-895e0ef3b2fa",
   "metadata": {},
   "outputs": [
    {
     "data": {
      "image/png": "[encoded data removed]",
      "text/plain": [
       "<Figure size 640x480 with 2 Axes>"
      ]
     },
     "metadata": {},
     "output_type": "display_data"
    }
   ],
   "source": [
    "ConfusionMatrixDisplay.from_predictions(y_true=y_test, y_pred=lr_object.predict(X_test))\n",
    "plt.show()"
   ]
  },
  {
   "cell_type": "code",
   "execution_count": 19,
   "id": "68b1eed0",
   "metadata": {},
   "outputs": [
    {
     "name": "stdout",
     "output_type": "stream",
     "text": [
      "              precision    recall  f1-score   support\n",
      "\n",
      "           1       0.92      0.90      0.91        52\n",
      "           2       0.92      0.98      0.95       111\n",
      "           3       1.00      0.73      0.84        11\n",
      "           4       1.00      0.87      0.93        23\n",
      "           5       0.88      0.78      0.82         9\n",
      "\n",
      "    accuracy                           0.93       206\n",
      "   macro avg       0.94      0.85      0.89       206\n",
      "weighted avg       0.93      0.93      0.93       206\n",
      "\n"
     ]
    }
   ],
   "source": [
    "print(classification_report(y_test, lr_object.predict(X_test)))"
   ]
  },
  {
   "cell_type": "code",
   "execution_count": 20,
   "id": "90b4cfc2",
   "metadata": {},
   "outputs": [
    {
     "name": "stdout",
     "output_type": "stream",
     "text": [
      "              precision    recall  f1-score   support\n",
      "\n",
      "           1       1.00      1.00      1.00       207\n",
      "           2       1.00      1.00      1.00       443\n",
      "           3       1.00      1.00      1.00        45\n",
      "           4       1.00      1.00      1.00        93\n",
      "           5       1.00      1.00      1.00        35\n",
      "\n",
      "    accuracy                           1.00       823\n",
      "   macro avg       1.00      1.00      1.00       823\n",
      "weighted avg       1.00      1.00      1.00       823\n",
      "\n"
     ]
    }
   ],
   "source": [
    "print(classification_report(y_train, lr_object.predict(X_train)))"
   ]
  }
 ],
 "metadata": {
  "kernelspec": {
   "display_name": "Python 3",
   "language": "python",
   "name": "python3"
  },
  "language_info": {
   "codemirror_mode": {
    "name": "ipython",
    "version": 3
   },
   "file_extension": ".py",
   "mimetype": "text/x-python",
   "name": "python",
   "nbconvert_exporter": "python",
   "pygments_lexer": "ipython3",
   "version": "3.10.6"
  }
 },
 "nbformat": 4,
 "nbformat_minor": 5
}
