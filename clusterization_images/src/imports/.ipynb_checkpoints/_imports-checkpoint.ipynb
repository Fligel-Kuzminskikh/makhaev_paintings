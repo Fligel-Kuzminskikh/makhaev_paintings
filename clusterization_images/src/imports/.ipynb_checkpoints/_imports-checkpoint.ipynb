{
 "cells": [
  {
   "cell_type": "markdown",
   "id": "8d74e570",
   "metadata": {},
   "source": [
    "## Базовые"
   ]
  },
  {
   "cell_type": "code",
   "execution_count": 9,
   "id": "afb598f7",
   "metadata": {},
   "outputs": [
    {
     "name": "stdout",
     "output_type": "stream",
     "text": [
      "Overwriting basic_imports.py\n"
     ]
    }
   ],
   "source": [
    "%%writefile basic_imports.py\n",
    "import os\n",
    "import pandas as pd\n",
    "import numpy as np\n"
   ]
  },
  {
   "cell_type": "code",
   "execution_count": 8,
   "id": "883c8a0c",
   "metadata": {},
   "outputs": [
    {
     "name": "stdout",
     "output_type": "stream",
     "text": [
      "Writing matplotlib.py\n"
     ]
    }
   ],
   "source": [
    "%%writefile matplotlib.py\n",
    "\n",
    "import matplotlib.pyplot as plt"
   ]
  },
  {
   "cell_type": "markdown",
   "id": "149b6b8f",
   "metadata": {},
   "source": [
    "## Вспомогательные"
   ]
  },
  {
   "cell_type": "code",
   "execution_count": 4,
   "id": "e4a9b9b0",
   "metadata": {},
   "outputs": [
    {
     "name": "stdout",
     "output_type": "stream",
     "text": [
      "Overwriting random_imports.py\n"
     ]
    }
   ],
   "source": [
    "%%writefile random_imports.py\n",
    "\n",
    "from random import sample, randint"
   ]
  },
  {
   "cell_type": "code",
   "execution_count": 5,
   "id": "360606bf",
   "metadata": {},
   "outputs": [
    {
     "name": "stdout",
     "output_type": "stream",
     "text": [
      "Writing Counter_imports.py\n"
     ]
    }
   ],
   "source": [
    "%%writefile Counter_imports.py\n",
    "\n",
    "from collections import Counter"
   ]
  },
  {
   "cell_type": "markdown",
   "id": "18858a23",
   "metadata": {},
   "source": [
    "## Файловая система"
   ]
  },
  {
   "cell_type": "code",
   "execution_count": 7,
   "id": "09ca3561",
   "metadata": {},
   "outputs": [
    {
     "name": "stdout",
     "output_type": "stream",
     "text": [
      "Writing gdown_imports.py\n"
     ]
    }
   ],
   "source": [
    "%%writefile gdown_imports.py\n",
    "\n",
    "! pip install gdown\n",
    "import gdown"
   ]
  },
  {
   "cell_type": "code",
   "execution_count": 6,
   "id": "2423e153",
   "metadata": {},
   "outputs": [
    {
     "name": "stdout",
     "output_type": "stream",
     "text": [
      "Writing tqdm_imports.py\n"
     ]
    }
   ],
   "source": [
    "%%writefile tqdm_imports.py\n",
    "\n",
    "! pip install ftfy regex tqdm\n",
    "from tqdm import tqdm\n",
    "tqdm.pandas()"
   ]
  },
  {
   "cell_type": "code",
   "execution_count": 2,
   "id": "ff3db84a",
   "metadata": {},
   "outputs": [
    {
     "name": "stdout",
     "output_type": "stream",
     "text": [
      "Writing pathlib_imports.py\n"
     ]
    }
   ],
   "source": [
    "%%writefile pathlib_imports.py\n",
    "\n",
    "from pathlib import Path"
   ]
  },
  {
   "cell_type": "code",
   "execution_count": 3,
   "id": "26756457",
   "metadata": {},
   "outputs": [
    {
     "name": "stdout",
     "output_type": "stream",
     "text": [
      "Writing multiprocessing_imports.py\n"
     ]
    }
   ],
   "source": [
    "%%writefile multiprocessing_imports.py\n",
    "\n",
    "from multiprocessing import Pool"
   ]
  },
  {
   "cell_type": "markdown",
   "id": "7bac5286",
   "metadata": {},
   "source": [
    "## Трансформеры"
   ]
  },
  {
   "cell_type": "code",
   "execution_count": 2,
   "id": "0dbf7bf4",
   "metadata": {},
   "outputs": [
    {
     "name": "stdout",
     "output_type": "stream",
     "text": [
      "Writing transformers_imports.py\n"
     ]
    }
   ],
   "source": [
    "%%writefile transformers_imports.py\n",
    "\n",
    "! pip install transformers datasets\n",
    "! pip install tensorflow\n",
    "\n",
    "import torch\n",
    "from pkg_resources import packaging\n",
    "import clip"
   ]
  },
  {
   "cell_type": "code",
   "execution_count": 4,
   "id": "392ff247",
   "metadata": {},
   "outputs": [
    {
     "name": "stdout",
     "output_type": "stream",
     "text": [
      "Overwriting CLIP_imports.py\n"
     ]
    }
   ],
   "source": [
    "%%writefile CLIP_imports.py\n",
    "\n",
    "! pip install git+https://github.com/openai/CLIP.git\n",
    "\n",
    "# импорт из clip нужного\n",
    "import requests\n",
    "from transformers import CLIPProcessor, CLIPModel\n",
    "from transformers import AutoProcessor, CLIPModel\n",
    "\n",
    "model = CLIPModel.from_pretrained(\"openai/clip-vit-base-patch32\")\n",
    "processor = AutoProcessor.from_pretrained(\"openai/clip-vit-base-patch32\")"
   ]
  },
  {
   "cell_type": "markdown",
   "id": "70e0c29e",
   "metadata": {},
   "source": [
    "## Работа с изображениями"
   ]
  },
  {
   "cell_type": "code",
   "execution_count": 5,
   "id": "ee26f04d",
   "metadata": {},
   "outputs": [
    {
     "name": "stdout",
     "output_type": "stream",
     "text": [
      "Writing CV2_imports.py\n"
     ]
    }
   ],
   "source": [
    "%%writefile CV2_imports.py\n",
    "\n",
    "! pip install opencv-contrib-python\n",
    "\n",
    "import cv2 as cv2"
   ]
  },
  {
   "cell_type": "code",
   "execution_count": 7,
   "id": "8470e486",
   "metadata": {},
   "outputs": [
    {
     "name": "stdout",
     "output_type": "stream",
     "text": [
      "Overwriting PIL_imports.py\n"
     ]
    }
   ],
   "source": [
    "%%writefile PIL_imports.py\n",
    "\n",
    "! pip install pillow\n",
    "\n",
    "from PIL import Image, ImageFilter, ImageDraw, ImageFont"
   ]
  },
  {
   "cell_type": "code",
   "execution_count": 5,
   "id": "f605876d",
   "metadata": {},
   "outputs": [
    {
     "name": "stdout",
     "output_type": "stream",
     "text": [
      "Writing PIL_text_imports.py\n"
     ]
    }
   ],
   "source": [
    "%%writefile PIL_text_imports.py\n",
    "from PIL import ImageDraw, ImageFont"
   ]
  },
  {
   "cell_type": "code",
   "execution_count": null,
   "id": "92064480",
   "metadata": {},
   "outputs": [],
   "source": [
    "%%writefile kneed_imports.py\n",
    "\n",
    "! pip install kneed \n",
    "! pip install kneed[plot]\n",
    "\n",
    "from kneed import KneeLocator"
   ]
  },
  {
   "cell_type": "markdown",
   "id": "24e3e6e3",
   "metadata": {},
   "source": [
    "## SKLEARN"
   ]
  },
  {
   "cell_type": "code",
   "execution_count": 14,
   "id": "e317d4ea",
   "metadata": {},
   "outputs": [
    {
     "name": "stdout",
     "output_type": "stream",
     "text": [
      "Overwriting sklearn.py\n"
     ]
    }
   ],
   "source": [
    "%%writefile sklearn.py\n",
    "\n",
    "! pip install -U scikit-learn\n",
    "\n",
    "from sklearn.pipeline import make_pipeline\n",
    "from sklearn.preprocessing import normalize, StandardScaler"
   ]
  },
  {
   "cell_type": "code",
   "execution_count": 1,
   "id": "7c869b27",
   "metadata": {},
   "outputs": [
    {
     "name": "stdout",
     "output_type": "stream",
     "text": [
      "Writing sklearn_metrics.py\n"
     ]
    }
   ],
   "source": [
    "%%writefile sklearn_metrics.py\n",
    "\n",
    "from sklearn import metrics"
   ]
  },
  {
   "cell_type": "code",
   "execution_count": 6,
   "id": "6a4e24f3",
   "metadata": {},
   "outputs": [
    {
     "name": "stdout",
     "output_type": "stream",
     "text": [
      "Writing DBSCAN.py\n"
     ]
    }
   ],
   "source": [
    "%%writefile DBSCAN.py\n",
    "\n",
    "from sklearn.cluster import DBSCAN\n"
   ]
  },
  {
   "cell_type": "code",
   "execution_count": 8,
   "id": "c55186af",
   "metadata": {},
   "outputs": [
    {
     "name": "stdout",
     "output_type": "stream",
     "text": [
      "Writing NearestNeighbors.py\n"
     ]
    }
   ],
   "source": [
    "%%writefile NearestNeighbors.py\n",
    "\n",
    "from sklearn.neighbors import NearestNeighbors"
   ]
  },
  {
   "cell_type": "code",
   "execution_count": 9,
   "id": "866b21ae",
   "metadata": {},
   "outputs": [
    {
     "name": "stdout",
     "output_type": "stream",
     "text": [
      "Writing KneeLocator.py\n"
     ]
    }
   ],
   "source": [
    "%%writefile KneeLocator.py\n",
    "\n",
    "from kneed import KneeLocator"
   ]
  },
  {
   "cell_type": "code",
   "execution_count": 10,
   "id": "a59b86f4",
   "metadata": {},
   "outputs": [
    {
     "name": "stdout",
     "output_type": "stream",
     "text": [
      "Writing KMeans.py\n"
     ]
    }
   ],
   "source": [
    "%%writefile KMeans.py\n",
    "\n",
    "from sklearn.cluster import KMeans"
   ]
  },
  {
   "cell_type": "code",
   "execution_count": 11,
   "id": "542d13e2",
   "metadata": {},
   "outputs": [
    {
     "name": "stdout",
     "output_type": "stream",
     "text": [
      "Writing silhouette.py\n"
     ]
    }
   ],
   "source": [
    "%%writefile silhouette.py\n",
    "\n",
    "from sklearn.metrics import silhouette_samples, silhouette_score"
   ]
  },
  {
   "cell_type": "code",
   "execution_count": 12,
   "id": "45b33786",
   "metadata": {},
   "outputs": [
    {
     "name": "stdout",
     "output_type": "stream",
     "text": [
      "Writing PCA.py\n"
     ]
    }
   ],
   "source": [
    "%%writefile PCA.py\n",
    "\n",
    "from sklearn.decomposition import PCA"
   ]
  },
  {
   "cell_type": "code",
   "execution_count": 13,
   "id": "f1db47ca",
   "metadata": {},
   "outputs": [
    {
     "name": "stdout",
     "output_type": "stream",
     "text": [
      "Writing OPTICS.py\n"
     ]
    }
   ],
   "source": [
    "%%writefile OPTICS.py\n",
    "\n",
    "from sklearn.cluster import OPTICS, cluster_optics_dbscan"
   ]
  },
  {
   "cell_type": "code",
   "execution_count": null,
   "id": "671975a2",
   "metadata": {},
   "outputs": [],
   "source": []
  }
 ],
 "metadata": {
  "kernelspec": {
   "display_name": "Python 3",
   "language": "python",
   "name": "python3"
  },
  "language_info": {
   "codemirror_mode": {
    "name": "ipython",
    "version": 3
   },
   "file_extension": ".py",
   "mimetype": "text/x-python",
   "name": "python",
   "nbconvert_exporter": "python",
   "pygments_lexer": "ipython3",
   "version": "3.10.6"
  }
 },
 "nbformat": 4,
 "nbformat_minor": 5
}
