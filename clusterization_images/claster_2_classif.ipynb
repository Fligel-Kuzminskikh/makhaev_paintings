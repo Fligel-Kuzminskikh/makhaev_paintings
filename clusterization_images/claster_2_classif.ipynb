{
 "cells": [
  {
   "cell_type": "markdown",
   "id": "600f752b",
   "metadata": {},
   "source": [
    "## Описание"
   ]
  },
  {
   "cell_type": "markdown",
   "id": "79c2a119",
   "metadata": {},
   "source": [
    "Классификация результатов разделения по сюжетам. "
   ]
  },
  {
   "cell_type": "markdown",
   "id": "07c863af",
   "metadata": {},
   "source": [
    "## Зависимости"
   ]
  },
  {
   "cell_type": "code",
   "execution_count": 8,
   "id": "a8513123",
   "metadata": {},
   "outputs": [],
   "source": [
    "# %load ./src/imports/basic_imports.py\n",
    "import os\n",
    "import pandas as pd\n",
    "import numpy as np\n"
   ]
  },
  {
   "cell_type": "code",
   "execution_count": 9,
   "id": "a5fbdf85",
   "metadata": {},
   "outputs": [
    {
     "name": "stdout",
     "output_type": "stream",
     "text": [
      "Defaulting to user installation because normal site-packages is not writeable\n",
      "Requirement already satisfied: gdown in /home/eu2233-6/.local/lib/python3.10/site-packages (4.7.1)\n",
      "Requirement already satisfied: filelock in /usr/local/lib/python3.10/dist-packages (from gdown) (3.8.0)\n",
      "Requirement already satisfied: requests[socks] in /usr/local/lib/python3.10/dist-packages (from gdown) (2.26.0)\n",
      "Requirement already satisfied: six in /usr/lib/python3/dist-packages (from gdown) (1.16.0)\n",
      "Requirement already satisfied: tqdm in /usr/local/lib/python3.10/dist-packages (from gdown) (4.64.0)\n",
      "Requirement already satisfied: beautifulsoup4 in /usr/local/lib/python3.10/dist-packages (from gdown) (4.11.1)\n",
      "Requirement already satisfied: soupsieve>1.2 in /usr/local/lib/python3.10/dist-packages (from beautifulsoup4->gdown) (2.3.2.post1)\n",
      "Requirement already satisfied: urllib3<1.27,>=1.21.1 in /usr/local/lib/python3.10/dist-packages (from requests[socks]->gdown) (1.26.7)\n",
      "Requirement already satisfied: certifi>=2017.4.17 in /usr/local/lib/python3.10/dist-packages (from requests[socks]->gdown) (2021.5.30)\n",
      "Requirement already satisfied: charset-normalizer~=2.0.0 in /usr/local/lib/python3.10/dist-packages (from requests[socks]->gdown) (2.0.6)\n",
      "Requirement already satisfied: idna<4,>=2.5 in /usr/local/lib/python3.10/dist-packages (from requests[socks]->gdown) (3.2)\n",
      "Requirement already satisfied: PySocks!=1.5.7,>=1.5.6 in /home/eu2233-6/.local/lib/python3.10/site-packages (from requests[socks]->gdown) (1.7.1)\n"
     ]
    }
   ],
   "source": [
    "# %load ./src/imports/gdown_imports.py\n",
    "\n",
    "! pip install gdown\n",
    "import gdown\n"
   ]
  },
  {
   "cell_type": "code",
   "execution_count": null,
   "id": "4a6711ae",
   "metadata": {},
   "outputs": [],
   "source": [
    "# %load ./src/imports/random_imports.py\n",
    "\n",
    "from random import sample, randint\n"
   ]
  },
  {
   "cell_type": "code",
   "execution_count": 10,
   "id": "62e190ea",
   "metadata": {},
   "outputs": [
    {
     "name": "stderr",
     "output_type": "stream",
     "text": [
      "[nltk_data] Downloading package stopwords to\n",
      "[nltk_data]     /home/eu2233-6/nltk_data...\n",
      "[nltk_data]   Package stopwords is already up-to-date!\n"
     ]
    }
   ],
   "source": [
    "# зависимости из классификатора\n",
    "from sklearn.feature_extraction.text import CountVectorizer\n",
    "from sklearn.feature_extraction.text import TfidfVectorizer\n",
    "from pymystem3 import Mystem\n",
    "\n",
    "import nltk\n",
    "nltk.download('stopwords')\n",
    "\n",
    "from nltk.corpus import stopwords\n",
    "_stopwords = stopwords.words('russian')\n",
    "\n",
    "from sklearn.linear_model import LogisticRegression\n",
    "from sklearn.model_selection import train_test_split\n",
    "from sklearn.metrics import classification_report, accuracy_score"
   ]
  },
  {
   "cell_type": "markdown",
   "id": "af6a6102",
   "metadata": {},
   "source": [
    "## Функции обработки текстовых данных"
   ]
  },
  {
   "cell_type": "code",
   "execution_count": 11,
   "id": "65ed4c04",
   "metadata": {},
   "outputs": [],
   "source": [
    "# функция из классификатора - векторизация\n",
    "def vectorize(data, _type, sw=None):\n",
    "    \n",
    "    if _type == 'count':\n",
    "        vectorizer = CountVectorizer(stop_words=sw)\n",
    "        X = vectorizer.fit_transform(data['text'])\n",
    "    if _type == 'tfidf':\n",
    "        vectorizer = TfidfVectorizer(stop_words=sw)\n",
    "        X = vectorizer.fit_transform(data['text'])\n",
    "        \n",
    "    return X, vectorizer.get_feature_names_out()"
   ]
  },
  {
   "cell_type": "code",
   "execution_count": 12,
   "id": "b8c522fb",
   "metadata": {},
   "outputs": [],
   "source": [
    "# функция из классификатора - очистка базы\n",
    "def clean(data, cols_drop, pattern, replacement, lemmatize=True):\n",
    "    \n",
    "    if cols_drop != None:\n",
    "        data = data.drop(columns=cols_drop)\n",
    "    data = data.fillna('')\n",
    "    data['text'] = data['name'] + \" \" + data['author'] + \" \" + data['technologies']\n",
    "    data['text'] = data['text'].astype('str')\n",
    "    data['text'] = data['text'].apply(lambda x: x.lower())\n",
    "    data['text'] = data.text.str.replace(pattern, replacement)\n",
    "    if lemmatize:\n",
    "        m = Mystem()\n",
    "        data['text'] = data.text.apply(lambda x: ''.join(m.lemmatize(x)).rstrip())\n",
    "    \n",
    "    return data"
   ]
  },
  {
   "cell_type": "markdown",
   "id": "9981e158",
   "metadata": {},
   "source": [
    "## Параметры"
   ]
  },
  {
   "cell_type": "code",
   "execution_count": 13,
   "id": "4972f911",
   "metadata": {},
   "outputs": [],
   "source": [
    "# определяем колонку по которой будем связывать все таблицы\n",
    "global_key = 'regNumber'\n",
    "\n",
    "# ссылка на выгрузку данных ГК\n",
    "url_text_objects = './out/gk_out/df_merge_labelled_enriched - df_merge_labelled_enriched.csv'"
   ]
  },
  {
   "cell_type": "markdown",
   "id": "178ecc9f",
   "metadata": {},
   "source": [
    "#### Изображения\n",
    "- DBSCAN чистая выборка с лучшими параметрами (eps = 0.387,sample = 2) \n",
    "- KMeans чистая выборка с лучшими значениями метрик на валидационной выборке (k = 93) "
   ]
  },
  {
   "cell_type": "code",
   "execution_count": 14,
   "id": "c9a806e6",
   "metadata": {},
   "outputs": [],
   "source": [
    "# ссылки на результаты кластаризации\n",
    "url_dict = {\n",
    "    'DBSCAN_clear':'./out/classter_img_out/DBSCAN_clear_1346.csv',\n",
    "    'KMeans_clear_best':'./out/classter_img_out/KMeans_full_best_1406.csv',\n",
    "    'df_text_classter':'./out/classter_text_out/'\n",
    "    }"
   ]
  },
  {
   "cell_type": "markdown",
   "id": "6797a445",
   "metadata": {},
   "source": [
    "## Вспомогательные функции"
   ]
  },
  {
   "cell_type": "code",
   "execution_count": 15,
   "id": "13c0d2be",
   "metadata": {},
   "outputs": [],
   "source": [
    "# %load ./src/functions/csv2DF.py\n",
    "\n",
    "# загрузка файлов по словарю\n",
    "# name - имя\n",
    "# link_dir - словарь\n",
    "# sep = \",\" - разделитель\n",
    "def csv2DF(name, link_dir = url_dict, sep = \",\"):\n",
    "    url = link_dir[name]\n",
    "    df = pd.read_csv(url)\n",
    "    return df\n"
   ]
  },
  {
   "cell_type": "code",
   "execution_count": 16,
   "id": "a1a10f31",
   "metadata": {},
   "outputs": [],
   "source": [
    "# %load ./src/functions/save2csv.py\n",
    "\n",
    "# сохраняем в файл результаты\n",
    "def save2csv(df, param='data'):\n",
    "    file_name = './out/' + param + '_' + str(randint(100, 2000)) +'.csv'\n",
    "    df.to_csv(file_name, index= False )\n"
   ]
  },
  {
   "cell_type": "code",
   "execution_count": 17,
   "id": "83b1f3a5",
   "metadata": {},
   "outputs": [],
   "source": [
    "# %load ./src/functions/csv2DF.py\n",
    "\n",
    "# загрузка файлов по словарю\n",
    "# name - имя\n",
    "# link_dir - словарь\n",
    "# sep = \",\" - разделитель\n",
    "def csv2DF(name, link_dir = url_dict, sep = \",\"):\n",
    "    url = link_dir[name]\n",
    "    df = pd.read_csv(url, encoding = 'utf8', sep = sep )\n",
    "    return df\n"
   ]
  },
  {
   "cell_type": "markdown",
   "id": "75d03d1e",
   "metadata": {},
   "source": [
    "## Загрузка результатов выгрузки данных из ГК"
   ]
  },
  {
   "cell_type": "code",
   "execution_count": 18,
   "id": "e3a34532",
   "metadata": {},
   "outputs": [],
   "source": [
    "objects = pd.read_csv(url_text_objects, encoding = 'utf8')"
   ]
  },
  {
   "cell_type": "code",
   "execution_count": 19,
   "id": "4e1166ea",
   "metadata": {},
   "outputs": [
    {
     "data": {
      "text/html": [
       "<div>\n",
       "<style scoped>\n",
       "    .dataframe tbody tr th:only-of-type {\n",
       "        vertical-align: middle;\n",
       "    }\n",
       "\n",
       "    .dataframe tbody tr th {\n",
       "        vertical-align: top;\n",
       "    }\n",
       "\n",
       "    .dataframe thead th {\n",
       "        text-align: right;\n",
       "    }\n",
       "</style>\n",
       "<table border=\"1\" class=\"dataframe\">\n",
       "  <thead>\n",
       "    <tr style=\"text-align: right;\">\n",
       "      <th></th>\n",
       "      <th>id</th>\n",
       "      <th>name</th>\n",
       "      <th>author</th>\n",
       "      <th>regNumber</th>\n",
       "      <th>invNumber</th>\n",
       "      <th>gikNumber</th>\n",
       "      <th>type</th>\n",
       "      <th>statusId</th>\n",
       "      <th>nativeId</th>\n",
       "      <th>date_created</th>\n",
       "      <th>typology</th>\n",
       "      <th>description</th>\n",
       "      <th>technologies</th>\n",
       "      <th>image</th>\n",
       "      <th>connectedness</th>\n",
       "    </tr>\n",
       "  </thead>\n",
       "  <tbody>\n",
       "    <tr>\n",
       "      <th>0</th>\n",
       "      <td>5c3e0d8893fa687ca4f7f2cc</td>\n",
       "      <td>Эскиз декорации. Сцена с фигурой. \"В списках н...</td>\n",
       "      <td>Макушенко Владимир Александрович ,Твардовская ...</td>\n",
       "      <td>3613323</td>\n",
       "      <td>Ж 1308</td>\n",
       "      <td>КП 323343</td>\n",
       "      <td>0</td>\n",
       "      <td>6</td>\n",
       "      <td>1186967</td>\n",
       "      <td>Пост. 1975 г.</td>\n",
       "      <td>живопись</td>\n",
       "      <td>В чёрной раме на чёрном фоне в центре серые пя...</td>\n",
       "      <td>Фанера, темпера, мелки, ткань, аппликация.</td>\n",
       "      <td>http://goskatalog.ru/muzfo-imaginator/rest/ima...</td>\n",
       "      <td>0.0</td>\n",
       "    </tr>\n",
       "    <tr>\n",
       "      <th>1</th>\n",
       "      <td>5c3e0ff893fa687ca41a64ad</td>\n",
       "      <td>Екатерининский дворец</td>\n",
       "      <td>Махаев Н. М.</td>\n",
       "      <td>3640287</td>\n",
       "      <td>ЕД-865-X</td>\n",
       "      <td>ЦС КП-19894</td>\n",
       "      <td>0</td>\n",
       "      <td>6</td>\n",
       "      <td>475975</td>\n",
       "      <td>1827</td>\n",
       "      <td>живопись</td>\n",
       "      <td>Изображен Екатерининский дворец со стороны сев...</td>\n",
       "      <td>масло, холст</td>\n",
       "      <td>http://goskatalog.ru/muzfo-imaginator/rest/ima...</td>\n",
       "      <td>0.0</td>\n",
       "    </tr>\n",
       "    <tr>\n",
       "      <th>2</th>\n",
       "      <td>5c3e190393fa687ca49e7935</td>\n",
       "      <td>Портрет. И. И. Махаев в роли. Неустановленный ...</td>\n",
       "      <td>[Ларин Юрий Николаевич]</td>\n",
       "      <td>9696309</td>\n",
       "      <td>Ж 1548</td>\n",
       "      <td>ГЦТМ КП 331864</td>\n",
       "      <td>0</td>\n",
       "      <td>6</td>\n",
       "      <td>9817591</td>\n",
       "      <td>1985 г. 1985</td>\n",
       "      <td>живопись</td>\n",
       "      <td>Изображен в повороте корпусом вправо молодой т...</td>\n",
       "      <td>холст, масло</td>\n",
       "      <td>http://goskatalog.ru/muzfo-imaginator/rest/ima...</td>\n",
       "      <td>0.0</td>\n",
       "    </tr>\n",
       "    <tr>\n",
       "      <th>3</th>\n",
       "      <td>5c3e190493fa687ca49e7fb8</td>\n",
       "      <td>Портрет. Махаев И. И.</td>\n",
       "      <td>Гусев Владимир Сергеевич</td>\n",
       "      <td>9696756</td>\n",
       "      <td>Ж 1549</td>\n",
       "      <td>ГЦТМ КП 331865</td>\n",
       "      <td>0</td>\n",
       "      <td>6</td>\n",
       "      <td>9817991</td>\n",
       "      <td>1980-е гг. 1980-1989</td>\n",
       "      <td>живопись</td>\n",
       "      <td>На фоне стены изображен поколенно корпусом в ф...</td>\n",
       "      <td>Холст, масло</td>\n",
       "      <td>http://goskatalog.ru/muzfo-imaginator/rest/ima...</td>\n",
       "      <td>0.0</td>\n",
       "    </tr>\n",
       "    <tr>\n",
       "      <th>4</th>\n",
       "      <td>5c3e196393fa687ca4a40b12</td>\n",
       "      <td>Портрет. И. И. Махаев</td>\n",
       "      <td>Лукьянов Виктор Евгеньевич</td>\n",
       "      <td>9858879</td>\n",
       "      <td>NaN</td>\n",
       "      <td>ГЦТМ КП 332002</td>\n",
       "      <td>0</td>\n",
       "      <td>6</td>\n",
       "      <td>9976566</td>\n",
       "      <td>2008 г. 2008</td>\n",
       "      <td>живопись</td>\n",
       "      <td>На сиреневом фоне изображен корпусом в профиль...</td>\n",
       "      <td>холст, масло</td>\n",
       "      <td>http://goskatalog.ru/muzfo-imaginator/rest/ima...</td>\n",
       "      <td>0.0</td>\n",
       "    </tr>\n",
       "  </tbody>\n",
       "</table>\n",
       "</div>"
      ],
      "text/plain": [
       "                         id  \\\n",
       "0  5c3e0d8893fa687ca4f7f2cc   \n",
       "1  5c3e0ff893fa687ca41a64ad   \n",
       "2  5c3e190393fa687ca49e7935   \n",
       "3  5c3e190493fa687ca49e7fb8   \n",
       "4  5c3e196393fa687ca4a40b12   \n",
       "\n",
       "                                                name  \\\n",
       "0  Эскиз декорации. Сцена с фигурой. \"В списках н...   \n",
       "1                              Екатерининский дворец   \n",
       "2  Портрет. И. И. Махаев в роли. Неустановленный ...   \n",
       "3                              Портрет. Махаев И. И.   \n",
       "4                              Портрет. И. И. Махаев   \n",
       "\n",
       "                                              author  regNumber invNumber  \\\n",
       "0  Макушенко Владимир Александрович ,Твардовская ...    3613323    Ж 1308   \n",
       "1                                       Махаев Н. М.    3640287  ЕД-865-X   \n",
       "2                            [Ларин Юрий Николаевич]    9696309    Ж 1548   \n",
       "3                           Гусев Владимир Сергеевич    9696756    Ж 1549   \n",
       "4                         Лукьянов Виктор Евгеньевич    9858879       NaN   \n",
       "\n",
       "        gikNumber  type  statusId  nativeId          date_created  typology  \\\n",
       "0       КП 323343     0         6   1186967         Пост. 1975 г.  живопись   \n",
       "1     ЦС КП-19894     0         6    475975                  1827  живопись   \n",
       "2  ГЦТМ КП 331864     0         6   9817591          1985 г. 1985  живопись   \n",
       "3  ГЦТМ КП 331865     0         6   9817991  1980-е гг. 1980-1989  живопись   \n",
       "4  ГЦТМ КП 332002     0         6   9976566          2008 г. 2008  живопись   \n",
       "\n",
       "                                         description  \\\n",
       "0  В чёрной раме на чёрном фоне в центре серые пя...   \n",
       "1  Изображен Екатерининский дворец со стороны сев...   \n",
       "2  Изображен в повороте корпусом вправо молодой т...   \n",
       "3  На фоне стены изображен поколенно корпусом в ф...   \n",
       "4  На сиреневом фоне изображен корпусом в профиль...   \n",
       "\n",
       "                                 technologies  \\\n",
       "0  Фанера, темпера, мелки, ткань, аппликация.   \n",
       "1                                масло, холст   \n",
       "2                                холст, масло   \n",
       "3                                Холст, масло   \n",
       "4                                холст, масло   \n",
       "\n",
       "                                               image  connectedness  \n",
       "0  http://goskatalog.ru/muzfo-imaginator/rest/ima...            0.0  \n",
       "1  http://goskatalog.ru/muzfo-imaginator/rest/ima...            0.0  \n",
       "2  http://goskatalog.ru/muzfo-imaginator/rest/ima...            0.0  \n",
       "3  http://goskatalog.ru/muzfo-imaginator/rest/ima...            0.0  \n",
       "4  http://goskatalog.ru/muzfo-imaginator/rest/ima...            0.0  "
      ]
     },
     "execution_count": 19,
     "metadata": {},
     "output_type": "execute_result"
    }
   ],
   "source": [
    "objects.head()"
   ]
  },
  {
   "cell_type": "code",
   "execution_count": 20,
   "id": "f809c053",
   "metadata": {},
   "outputs": [
    {
     "name": "stderr",
     "output_type": "stream",
     "text": [
      "/tmp/ipykernel_678129/4254471794.py:10: FutureWarning: The default value of regex will change from True to False in a future version.\n",
      "  data['text'] = data.text.str.replace(pattern, replacement)\n"
     ]
    }
   ],
   "source": [
    "objects_cleaned = clean(data=objects, cols_drop=['id', 'invNumber', 'gikNumber', 'type', 'nativeId',\n",
    "                                                 'description', 'image'],\n",
    "                        pattern='[\\d+\\\\.\\\\,\\\\!\\\\?\\\\-\\\"\\'\\\\:\\\\;\\\\`\\\\)\\\\(\\\\{\\\\}\\\\[\\\\]x+v+i+\\\\«\\\\»\\\\—\\\\/\\\\\\\\\\n]', replacement='')"
   ]
  },
  {
   "cell_type": "markdown",
   "id": "1b8554b0",
   "metadata": {},
   "source": [
    "## Загрузка результатов класстаризации изображений"
   ]
  },
  {
   "cell_type": "code",
   "execution_count": 23,
   "id": "b1287449",
   "metadata": {},
   "outputs": [],
   "source": [
    "df_DBSCAN_clear = csv2DF('DBSCAN_clear')\n",
    "df_KMeans_clear_best= csv2DF('KMeans_clear_best')\n",
    "\n",
    "#df_text_classter = csv2DF('df_text_classter')"
   ]
  },
  {
   "cell_type": "markdown",
   "id": "a1d3edae",
   "metadata": {},
   "source": [
    "## Классификация"
   ]
  },
  {
   "cell_type": "markdown",
   "id": "37ee5d71",
   "metadata": {},
   "source": [
    "####  Отдельно LR"
   ]
  },
  {
   "cell_type": "code",
   "execution_count": 24,
   "id": "10f95f19",
   "metadata": {},
   "outputs": [],
   "source": [
    "X_text, features_text = vectorize(data=objects_cleaned, _type='count', sw=_stopwords)"
   ]
  },
  {
   "cell_type": "code",
   "execution_count": 25,
   "id": "c1b20753",
   "metadata": {},
   "outputs": [
    {
     "name": "stdout",
     "output_type": "stream",
     "text": [
      "              precision    recall  f1-score   support\n",
      "\n",
      "         0.0       0.97      0.99      0.98        68\n",
      "         1.0       0.76      0.86      0.81        56\n",
      "         2.0       0.90      0.88      0.89       155\n",
      "         3.0       0.74      0.65      0.69        31\n",
      "         4.0       1.00      0.96      0.98        25\n",
      "         5.0       1.00      1.00      1.00        10\n",
      "\n",
      "    accuracy                           0.89       345\n",
      "   macro avg       0.90      0.89      0.89       345\n",
      "weighted avg       0.89      0.89      0.89       345\n",
      "\n",
      "              precision    recall  f1-score   support\n",
      "\n",
      "         0.0       1.00      0.99      1.00       273\n",
      "         1.0       0.98      0.94      0.96       222\n",
      "         2.0       0.96      0.98      0.97       619\n",
      "         3.0       0.93      0.93      0.93       121\n",
      "         4.0       1.00      0.99      1.00       102\n",
      "         5.0       1.00      1.00      1.00        42\n",
      "\n",
      "    accuracy                           0.97      1379\n",
      "   macro avg       0.98      0.97      0.97      1379\n",
      "weighted avg       0.97      0.97      0.97      1379\n",
      "\n"
     ]
    }
   ],
   "source": [
    "# векторизируем текст\n",
    "# X_text, features_text = vectorize(data=objects_cleaned, _type='count', sw=_stopwords)\n",
    "\n",
    "# параметры разделения на тест и трейн взяты из классsификатора\n",
    "X_train, X_test, y_train, y_test = train_test_split(\n",
    "    X_text, objects_cleaned['connectedness'], test_size=0.2,\n",
    "    stratify=objects_cleaned['connectedness'], random_state=123456)\n",
    "\n",
    "# параметры регрессии взяты из классификатора\n",
    "lr_object = LogisticRegression(multi_class='multinomial', max_iter=5000)\n",
    "lr_object.fit(X_train, y_train)\n",
    "\n",
    "print(classification_report(y_test, lr_object.predict(X_test)))\n",
    "print(classification_report(y_train, lr_object.predict(X_train)))"
   ]
  },
  {
   "cell_type": "code",
   "execution_count": null,
   "id": "51ba35ac",
   "metadata": {},
   "outputs": [],
   "source": []
  },
  {
   "cell_type": "markdown",
   "id": "04090802",
   "metadata": {},
   "source": [
    "#### Функции для работы с предсказаниями по изображениям"
   ]
  },
  {
   "cell_type": "code",
   "execution_count": 26,
   "id": "3b590c65",
   "metadata": {},
   "outputs": [],
   "source": [
    "# применяем LR для переданной выборки\n",
    "\n",
    "# df_for_class - выборка из датафрейма изображений для которых получаем предсказание, \n",
    "# df_objects = objects_cleaned, - выборка с текстами\n",
    "# lr = lr_object - натренерованная lr\n",
    "# X = X_text - результат работы функции vectoraze - разреженная матрица текстов\n",
    "# class_true_col = 'connectedness' - id колонки с реальным значением \n",
    "\n",
    "# Возвращает predict функции и список с истенными значениями ['connectedness'] для выбранных элементов\n",
    "\n",
    "def get_LR_predict(df_for_class, \n",
    "                   df_objects = objects_cleaned, \n",
    "                   X = X_text, \n",
    "                   class_true_col = 'connectedness'):\n",
    "     key_list = df_for_class[global_key].tolist()        \n",
    "          \n",
    "     test_index_list = df_objects.index[df_objects[global_key].isin(key_list)].tolist()\n",
    "     train_index_list = df_objects.index[~df_objects[global_key].isin(key_list)].tolist()\n",
    "     \n",
    "     # вот так мы можем получить из результата работы функции vectoraze нужные нам строки из разреженной матрицы. No comments.\n",
    "     #X_sel = np.array(pd.DataFrame(X.toarray()).iloc[index_list])        \n",
    "     X_test = np.float32(X.toarray())[test_index_list]         \n",
    "     X_train = np.float32(X.toarray())[train_index_list] \n",
    "    \n",
    "     y_test = df_objects.loc[test_index_list, class_true_col]\n",
    "     y_train = df_objects.loc[train_index_list, class_true_col]\n",
    "    \n",
    "     # Кажется логичней тренеровать каждый раз на чистой выборке для лучшего результата\n",
    "     lr = LogisticRegression(multi_class='multinomial', max_iter=5000)   \n",
    "     \n",
    "     # параметры разделения на тест и трейн взяты из классsификатора\n",
    "     #X_train, X_test, y_train, y_test = train_test_split(\n",
    "     #X_train_index, df_objects_train['connectedness'], test_size=0.2,\n",
    "     #stratify=df_objects_train['connectedness'], random_state=123456)\n",
    "\n",
    "     # параметры регрессии взяты из классификатора     \n",
    "     lr.fit(X_train, y_train)\n",
    "     \n",
    "     return lr.predict(X_test)"
   ]
  },
  {
   "cell_type": "code",
   "execution_count": 27,
   "id": "de7eab23",
   "metadata": {},
   "outputs": [],
   "source": [
    "# формируем фрейм для классификации\n",
    "# df - датафрейм изображений,\n",
    "# labels - метки класстера полученные, \n",
    "# claster_num - номер нужного кластера\n",
    "def get_Classter_LR_predict(df, labels, claster_num,\n",
    "                                 col_plot = 'labels'):\n",
    "    df_temp = pd.DataFrame({global_key: df[global_key], 'img': df['img'], 'title': df['title'], 'labels':labels})\n",
    "    rezult_df = df_temp.loc[df_temp[col_plot] == claster_num].copy()\n",
    "    \n",
    "    predict_label, true_label = get_LR_predict(rezult_df)\n",
    "    rezult_df['predict'] = list(predict_label)\n",
    "    rezult_df['true'] = list(true_label)\n",
    "\n",
    "    return rezult_df, predict_label, true_label"
   ]
  },
  {
   "cell_type": "code",
   "execution_count": 28,
   "id": "e4385106",
   "metadata": {},
   "outputs": [],
   "source": [
    "# формируем фрейм для классификации по всем кластерам\n",
    "# df - датафрейм с результатами разделения на сюжеты на основе изображений,\n",
    "# df_objects - результатов выгрузки данных из ГК\n",
    "# col_plot = 'labels' - id колонки с номером сюжета\n",
    "# class_predict_col = 'class_predict' - id колонки с предсказанием\n",
    "# class_true_col = 'connectedness' - id колонки с реальным значением \n",
    "\n",
    "def get_Classter_LR_predict_full(df, \n",
    "                                 df_objects = objects_cleaned,\n",
    "                                 col_plot = 'labels', \n",
    "                                 class_predict_col = 'class_predict', \n",
    "                                 class_true_col = 'connectedness'): \n",
    "    #full_df = pd.DataFrame(columns=[global_key, 'img', 'title', 'labels', 'class_predict', 'class_true'])    \n",
    "    full_df = pd.DataFrame()\n",
    "    df = df.drop(columns=['img', 'title'])\n",
    "    labels = df[col_plot].tolist()\n",
    "    \n",
    "    for claster_num in list(np.unique(labels)):\n",
    "        rezult_df = df.loc[df[col_plot] == claster_num].copy()\n",
    "        \n",
    "        predict_label = get_LR_predict(rezult_df)\n",
    "        rezult_df[class_predict_col] = list(predict_label)        \n",
    "        \n",
    "        full_df = pd.concat([full_df, rezult_df])\n",
    "        \n",
    "    key_list = full_df[global_key].tolist()       \n",
    "    df_objects_temp = df_objects.loc[df_objects[global_key].isin(key_list)].copy()\n",
    "    df_objects_temp = df_objects_temp[[global_key, 'name', class_true_col]]\n",
    "    full_df = full_df.merge(df_objects_temp, how='left', on=global_key)\n",
    "    return full_df"
   ]
  },
  {
   "cell_type": "markdown",
   "id": "bb8ef5d8",
   "metadata": {},
   "source": [
    "#### Функции оценки результатов предсказаний"
   ]
  },
  {
   "cell_type": "code",
   "execution_count": 29,
   "id": "27c4b9be",
   "metadata": {},
   "outputs": [],
   "source": [
    "# получаем результаты из конкретного кластера таблицы\n",
    "\n",
    "# df таблица с результатами классификации\n",
    "# col_plot = 'labels' - id колонки с номером сюжета\n",
    "# class_predict_col = 'class_predict' - id колонки с предсказанием\n",
    "# class_true_col = 'connectedness' - id колонки с реальным значением\n",
    "\n",
    "def get_claster_LR_rezult(df, claster_num, \n",
    "                          col_plot = 'labels', \n",
    "                          class_predict_col = 'class_predict', \n",
    "                          class_true_col = 'connectedness'):    \n",
    "    class_df = df.loc[df[col_plot] == claster_num].copy()\n",
    "    class_predict = class_df[class_predict_col].tolist()\n",
    "    class_true = class_df[class_true_col].tolist()\n",
    "    \n",
    "    return class_predict, class_true"
   ]
  },
  {
   "cell_type": "code",
   "execution_count": 30,
   "id": "de2a02a3",
   "metadata": {},
   "outputs": [],
   "source": [
    "# получаем таблицу-основу для построения гистораммы с результатами оценки 'accuracy' по разным кластерам\n",
    "# возвращает датафрейм вида:\n",
    "#  - 'accuracy' - интервал точности\n",
    "#  - 'count_labels' - количество сюжетов, оценки точности которых попали в интервал\n",
    "#  - 'labels' - список сюжетов, оценки точности которых попали в интервал\n",
    "#  - 'median_len'- медианное значение количества элементов внутри список сюжетов, оценки точности, которых попали в интервал\n",
    "\n",
    "# df таблица с результатами оценки точности вида\n",
    "#  - 'accuracy' - точность\n",
    "#  - 'labels' - номер сюжета\n",
    "#  - 'claster_len' - количества элементов внутри список сюжетов\n",
    "from statistics import median\n",
    "\n",
    "def get_beans_df(df):\n",
    "    list_rezult = []\n",
    "    for i in range(0,10,2):\n",
    "      min_score, max_score = i/10, 0.2+i/10          \n",
    "      min_score_title = str(min_score) if len(str(min_score)) <=3 else str(min_score)[0:4]\n",
    "      max_score_title = str(max_score) if len(str(max_score)) <=3 else str(max_score)[0:4]        \n",
    "      \n",
    "      if max_score == 1:\n",
    "         temp_df = df[(df['accuracy'] >= min_score) & (df['accuracy']<=max_score)].copy()\n",
    "      else:\n",
    "         temp_df = df[(df['accuracy'] >= min_score) & (df['accuracy']<max_score)].copy()\n",
    "      labels_list = [str(t) for t in temp_df['labels'].tolist()]\n",
    "      median_len =  median(temp_df['claster_len'].tolist())\n",
    "        \n",
    "      temp_dir = {'accuracy':min_score_title + '-' +  max_score_title, 'count_labels':len(temp_df), 'labels':','.join(labels_list), 'median_len':median_len}\n",
    "      list_rezult.append(temp_dir)\n",
    "    return pd.DataFrame(list_rezult)"
   ]
  },
  {
   "cell_type": "code",
   "execution_count": 31,
   "id": "c89acbc7",
   "metadata": {},
   "outputs": [],
   "source": [
    "# выводим accuracy по всем классам\n",
    "# возвращает датафрейм вида:\n",
    "#  - 'accuracy' - точность\n",
    "#  - 'labels' - номер сюжета\n",
    "#  - 'claster_len' - количества элементов внутри список сюжетов\n",
    "\n",
    "# df таблица с результатами классификации\n",
    "# col_plot = 'labels' - id колонки с номером сюжета\n",
    "# class_predict_col = 'class_predict' - id колонки с предсказанием\n",
    "# class_true_col = 'connectedness' - id колонки с реальным значением\n",
    "def score_DF(df,\n",
    "                          col_plot = 'labels', \n",
    "                          class_predict_col = 'class_predict', \n",
    "                          class_true_col = 'connectedness'): \n",
    "    result_list = []\n",
    "    labels_list = np.unique(df[col_plot].tolist())\n",
    "    \n",
    "    for claster_num in labels_list:\n",
    "         temp_dict = {'labels':claster_num, 'claster_len':len(df[df[col_plot]==claster_num])}\n",
    "         y_pred, y_true = get_claster_LR_rezult(df, claster_num, col_plot = col_plot, class_predict_col = class_predict_col, class_true_col =class_true_col)\n",
    "         \n",
    "         temp_dict.update({'accuracy':accuracy_score(y_true, y_pred)})\n",
    "            \n",
    "         result_list.append(temp_dict)\n",
    "    return pd.DataFrame(result_list)"
   ]
  },
  {
   "cell_type": "code",
   "execution_count": 32,
   "id": "20bfa1f2",
   "metadata": {},
   "outputs": [],
   "source": [
    "# проводим оценку и выводим результаты\n",
    "# печатает общее количество сюжетов и количество сюжетов для которых оценка ниже переданной границы\n",
    "# возвращает датайреймы общей оценки и оценок выше и ниже границы\n",
    "# возвращает датафрейм вида:\n",
    "#  - 'accuracy' - точность\n",
    "#  - 'labels' - номер сюжета\n",
    "#  - 'claster_len' - количества элементов внутри список сюжетов\n",
    "\n",
    "# lemit = 0.6 - граница  \n",
    "# title='' - дополнительный текст\n",
    "# df таблица с результатами классификации\n",
    "# col_plot = 'labels' - id колонки с номером сюжета\n",
    "# class_predict_col = 'class_predict' - id колонки с предсказанием\n",
    "# class_true_col = 'connectedness' - id колонки с реальным значением\n",
    "def get_score_DF(df_classif, \n",
    "                          lemit = 0.6, title='',\n",
    "                          col_plot = 'labels', \n",
    "                          class_predict_col = 'class_predict', \n",
    "                          class_true_col = 'connectedness'): \n",
    "    if len(title) > 0:\n",
    "        print(title)\n",
    "    df = score_DF(df_classif, col_plot = col_plot, class_predict_col = class_predict_col, class_true_col =class_true_col)\n",
    "    score_list = df[\"accuracy\"].tolist()\n",
    "    small_score_list = df[df['accuracy'] < lemit][\"accuracy\"].tolist()\n",
    "    print(f'Всего класстеров {len(score_list)}. Score меньше {lemit} - у {len(small_score_list)}')\n",
    "    return df, df[df['accuracy'] < lemit].copy(), df[df['accuracy'] >= lemit].copy()"
   ]
  },
  {
   "cell_type": "markdown",
   "id": "c26f241e",
   "metadata": {},
   "source": [
    "## Классификация и оценка"
   ]
  },
  {
   "cell_type": "markdown",
   "id": "3f48e318",
   "metadata": {},
   "source": [
    "### По изображениям"
   ]
  },
  {
   "cell_type": "code",
   "execution_count": 33,
   "id": "8a826d42",
   "metadata": {},
   "outputs": [],
   "source": [
    "df_DBSCAN_clear__classif_rezult =  get_Classter_LR_predict_full(df_DBSCAN_clear)"
   ]
  },
  {
   "cell_type": "code",
   "execution_count": 34,
   "id": "d57491d9",
   "metadata": {},
   "outputs": [
    {
     "name": "stdout",
     "output_type": "stream",
     "text": [
      "Всего класстеров 94. Score меньше 0.6 - у 42\n"
     ]
    }
   ],
   "source": [
    "# Из результатов убираем \"мусорный кластер\" (-1)\n",
    "df_DBSCAN_clear__classif_rezult_pure = df_DBSCAN_clear__classif_rezult[df_DBSCAN_clear__classif_rezult['labels'] != -1].copy()\n",
    "\n",
    "df_DBSCAN_clear__classif_score, df_DBSCAN_clear__classif_score_bad, df_DBSCAN_clear__classif_score_good = get_score_DF(df_DBSCAN_clear__classif_rezult_pure)"
   ]
  },
  {
   "cell_type": "code",
   "execution_count": 35,
   "id": "cd4fd357",
   "metadata": {},
   "outputs": [
    {
     "data": {
      "text/html": [
       "<div>\n",
       "<style scoped>\n",
       "    .dataframe tbody tr th:only-of-type {\n",
       "        vertical-align: middle;\n",
       "    }\n",
       "\n",
       "    .dataframe tbody tr th {\n",
       "        vertical-align: top;\n",
       "    }\n",
       "\n",
       "    .dataframe thead th {\n",
       "        text-align: right;\n",
       "    }\n",
       "</style>\n",
       "<table border=\"1\" class=\"dataframe\">\n",
       "  <thead>\n",
       "    <tr style=\"text-align: right;\">\n",
       "      <th></th>\n",
       "      <th>accuracy</th>\n",
       "      <th>count_labels</th>\n",
       "      <th>labels</th>\n",
       "      <th>median_len</th>\n",
       "    </tr>\n",
       "  </thead>\n",
       "  <tbody>\n",
       "    <tr>\n",
       "      <th>0</th>\n",
       "      <td>0.0-0.2</td>\n",
       "      <td>12</td>\n",
       "      <td>1,14,21,22,32,34,58,61,63,69,70,80</td>\n",
       "      <td>2.0</td>\n",
       "    </tr>\n",
       "    <tr>\n",
       "      <th>1</th>\n",
       "      <td>0.2-0.4</td>\n",
       "      <td>7</td>\n",
       "      <td>8,15,16,18,35,44,65</td>\n",
       "      <td>4.0</td>\n",
       "    </tr>\n",
       "    <tr>\n",
       "      <th>2</th>\n",
       "      <td>0.4-0.60</td>\n",
       "      <td>23</td>\n",
       "      <td>0,3,4,6,11,12,13,23,24,25,26,27,29,36,38,48,51...</td>\n",
       "      <td>5.0</td>\n",
       "    </tr>\n",
       "    <tr>\n",
       "      <th>3</th>\n",
       "      <td>0.6-0.8</td>\n",
       "      <td>9</td>\n",
       "      <td>2,7,9,10,19,20,31,43,74</td>\n",
       "      <td>25.0</td>\n",
       "    </tr>\n",
       "    <tr>\n",
       "      <th>4</th>\n",
       "      <td>0.8-1.0</td>\n",
       "      <td>43</td>\n",
       "      <td>5,17,28,30,33,37,39,40,41,42,45,46,47,49,50,52...</td>\n",
       "      <td>2.0</td>\n",
       "    </tr>\n",
       "  </tbody>\n",
       "</table>\n",
       "</div>"
      ],
      "text/plain": [
       "   accuracy  count_labels                                             labels  \\\n",
       "0   0.0-0.2            12                 1,14,21,22,32,34,58,61,63,69,70,80   \n",
       "1   0.2-0.4             7                                8,15,16,18,35,44,65   \n",
       "2  0.4-0.60            23  0,3,4,6,11,12,13,23,24,25,26,27,29,36,38,48,51...   \n",
       "3   0.6-0.8             9                            2,7,9,10,19,20,31,43,74   \n",
       "4   0.8-1.0            43  5,17,28,30,33,37,39,40,41,42,45,46,47,49,50,52...   \n",
       "\n",
       "   median_len  \n",
       "0         2.0  \n",
       "1         4.0  \n",
       "2         5.0  \n",
       "3        25.0  \n",
       "4         2.0  "
      ]
     },
     "execution_count": 35,
     "metadata": {},
     "output_type": "execute_result"
    }
   ],
   "source": [
    "temp_df = get_beans_df(df_DBSCAN_clear__classif_score)\n",
    "temp_df"
   ]
  },
  {
   "cell_type": "code",
   "execution_count": 36,
   "id": "e855ef9c",
   "metadata": {},
   "outputs": [],
   "source": [
    "df_KMeans_clear_best_classif_rezult = get_Classter_LR_predict_full(df_KMeans_clear_best) "
   ]
  },
  {
   "cell_type": "code",
   "execution_count": 37,
   "id": "95bd963d",
   "metadata": {},
   "outputs": [
    {
     "name": "stdout",
     "output_type": "stream",
     "text": [
      "Всего класстеров 93. Score меньше 0.6 - у 46\n"
     ]
    }
   ],
   "source": [
    "df_KMeans_clear_best__classif_score, df_KMeans_clear_best__classif_score_bad, df_KMeans_clear_best__classif_score_good = get_score_DF(df_KMeans_clear_best_classif_rezult)"
   ]
  },
  {
   "cell_type": "code",
   "execution_count": 38,
   "id": "2c270c4b",
   "metadata": {},
   "outputs": [
    {
     "data": {
      "text/html": [
       "<div>\n",
       "<style scoped>\n",
       "    .dataframe tbody tr th:only-of-type {\n",
       "        vertical-align: middle;\n",
       "    }\n",
       "\n",
       "    .dataframe tbody tr th {\n",
       "        vertical-align: top;\n",
       "    }\n",
       "\n",
       "    .dataframe thead th {\n",
       "        text-align: right;\n",
       "    }\n",
       "</style>\n",
       "<table border=\"1\" class=\"dataframe\">\n",
       "  <thead>\n",
       "    <tr style=\"text-align: right;\">\n",
       "      <th></th>\n",
       "      <th>accuracy</th>\n",
       "      <th>count_labels</th>\n",
       "      <th>labels</th>\n",
       "      <th>median_len</th>\n",
       "    </tr>\n",
       "  </thead>\n",
       "  <tbody>\n",
       "    <tr>\n",
       "      <th>0</th>\n",
       "      <td>0.0-0.2</td>\n",
       "      <td>10</td>\n",
       "      <td>6,13,28,32,57,60,67,69,80,86</td>\n",
       "      <td>11.0</td>\n",
       "    </tr>\n",
       "    <tr>\n",
       "      <th>1</th>\n",
       "      <td>0.2-0.4</td>\n",
       "      <td>17</td>\n",
       "      <td>9,17,24,25,34,46,51,54,55,58,62,65,71,79,83,84,91</td>\n",
       "      <td>14.0</td>\n",
       "    </tr>\n",
       "    <tr>\n",
       "      <th>2</th>\n",
       "      <td>0.4-0.60</td>\n",
       "      <td>19</td>\n",
       "      <td>12,14,16,18,30,39,40,42,44,50,52,53,56,64,73,7...</td>\n",
       "      <td>12.0</td>\n",
       "    </tr>\n",
       "    <tr>\n",
       "      <th>3</th>\n",
       "      <td>0.6-0.8</td>\n",
       "      <td>17</td>\n",
       "      <td>0,5,7,11,15,19,23,27,31,38,41,43,63,70,78,85,87</td>\n",
       "      <td>17.0</td>\n",
       "    </tr>\n",
       "    <tr>\n",
       "      <th>4</th>\n",
       "      <td>0.8-1.0</td>\n",
       "      <td>30</td>\n",
       "      <td>1,2,3,4,8,10,20,21,22,26,29,33,35,36,37,45,47,...</td>\n",
       "      <td>14.0</td>\n",
       "    </tr>\n",
       "  </tbody>\n",
       "</table>\n",
       "</div>"
      ],
      "text/plain": [
       "   accuracy  count_labels                                             labels  \\\n",
       "0   0.0-0.2            10                       6,13,28,32,57,60,67,69,80,86   \n",
       "1   0.2-0.4            17  9,17,24,25,34,46,51,54,55,58,62,65,71,79,83,84,91   \n",
       "2  0.4-0.60            19  12,14,16,18,30,39,40,42,44,50,52,53,56,64,73,7...   \n",
       "3   0.6-0.8            17    0,5,7,11,15,19,23,27,31,38,41,43,63,70,78,85,87   \n",
       "4   0.8-1.0            30  1,2,3,4,8,10,20,21,22,26,29,33,35,36,37,45,47,...   \n",
       "\n",
       "   median_len  \n",
       "0        11.0  \n",
       "1        14.0  \n",
       "2        12.0  \n",
       "3        17.0  \n",
       "4        14.0  "
      ]
     },
     "execution_count": 38,
     "metadata": {},
     "output_type": "execute_result"
    }
   ],
   "source": [
    "temp_df = get_beans_df(df_KMeans_clear_best__classif_score)\n",
    "temp_df"
   ]
  },
  {
   "cell_type": "code",
   "execution_count": 39,
   "id": "4624ea80",
   "metadata": {},
   "outputs": [
    {
     "ename": "NameError",
     "evalue": "name 'randint' is not defined",
     "output_type": "error",
     "traceback": [
      "\u001b[0;31m---------------------------------------------------------------------------\u001b[0m",
      "\u001b[0;31mNameError\u001b[0m                                 Traceback (most recent call last)",
      "Input \u001b[0;32mIn [39]\u001b[0m, in \u001b[0;36m<cell line: 1>\u001b[0;34m()\u001b[0m\n\u001b[0;32m----> 1\u001b[0m \u001b[43msave2csv\u001b[49m\u001b[43m(\u001b[49m\u001b[43mdf_KMeans_clear_best_classif_rezult\u001b[49m\u001b[43m,\u001b[49m\u001b[43m \u001b[49m\u001b[43mparam\u001b[49m\u001b[38;5;241;43m=\u001b[39;49m\u001b[38;5;124;43m'\u001b[39;49m\u001b[38;5;124;43mclassif_img_out/KMeans_clear_best_classif\u001b[39;49m\u001b[38;5;124;43m'\u001b[39;49m\u001b[43m)\u001b[49m\n\u001b[1;32m      2\u001b[0m save2csv(df_DBSCAN_clear__classif_rezult, param\u001b[38;5;241m=\u001b[39m\u001b[38;5;124m'\u001b[39m\u001b[38;5;124mclassif_img_out/DBSCAN_clear__classif\u001b[39m\u001b[38;5;124m'\u001b[39m)\n",
      "Input \u001b[0;32mIn [16]\u001b[0m, in \u001b[0;36msave2csv\u001b[0;34m(df, param)\u001b[0m\n\u001b[1;32m      4\u001b[0m \u001b[38;5;28;01mdef\u001b[39;00m \u001b[38;5;21msave2csv\u001b[39m(df, param\u001b[38;5;241m=\u001b[39m\u001b[38;5;124m'\u001b[39m\u001b[38;5;124mdata\u001b[39m\u001b[38;5;124m'\u001b[39m):\n\u001b[0;32m----> 5\u001b[0m     file_name \u001b[38;5;241m=\u001b[39m \u001b[38;5;124m'\u001b[39m\u001b[38;5;124m./out/\u001b[39m\u001b[38;5;124m'\u001b[39m \u001b[38;5;241m+\u001b[39m param \u001b[38;5;241m+\u001b[39m \u001b[38;5;124m'\u001b[39m\u001b[38;5;124m_\u001b[39m\u001b[38;5;124m'\u001b[39m \u001b[38;5;241m+\u001b[39m \u001b[38;5;28mstr\u001b[39m(\u001b[43mrandint\u001b[49m(\u001b[38;5;241m100\u001b[39m, \u001b[38;5;241m2000\u001b[39m)) \u001b[38;5;241m+\u001b[39m\u001b[38;5;124m'\u001b[39m\u001b[38;5;124m.csv\u001b[39m\u001b[38;5;124m'\u001b[39m\n\u001b[1;32m      6\u001b[0m     df\u001b[38;5;241m.\u001b[39mto_csv(file_name, index\u001b[38;5;241m=\u001b[39m \u001b[38;5;28;01mFalse\u001b[39;00m )\n",
      "\u001b[0;31mNameError\u001b[0m: name 'randint' is not defined"
     ]
    }
   ],
   "source": [
    "save2csv(df_KMeans_clear_best_classif_rezult, param='classif_img_out/KMeans_clear_best_classif')\n",
    "save2csv(df_DBSCAN_clear__classif_rezult, param='classif_img_out/DBSCAN_clear__classif')"
   ]
  }
 ],
 "metadata": {
  "kernelspec": {
   "display_name": "Python 3",
   "language": "python",
   "name": "python3"
  },
  "language_info": {
   "codemirror_mode": {
    "name": "ipython",
    "version": 3
   },
   "file_extension": ".py",
   "mimetype": "text/x-python",
   "name": "python",
   "nbconvert_exporter": "python",
   "pygments_lexer": "ipython3",
   "version": "3.10.6"
  }
 },
 "nbformat": 4,
 "nbformat_minor": 5
}
